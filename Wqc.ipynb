{
  "nbformat": 4,
  "nbformat_minor": 0,
  "metadata": {
    "colab": {
      "provenance": []
    },
    "kernelspec": {
      "name": "python3",
      "display_name": "Python 3"
    },
    "language_info": {
      "name": "python"
    }
  },
  "cells": [
    {
      "cell_type": "code",
      "execution_count": null,
      "metadata": {
        "colab": {
          "base_uri": "https://localhost:8080/",
          "height": 1000
        },
        "id": "sTnYu8tHWIbu",
        "outputId": "e479c2e3-9f98-4fc0-c2ca-56855f888a6e"
      },
      "outputs": [
        {
          "output_type": "stream",
          "name": "stdout",
          "text": [
            "(496, 16)\n",
            "(124, 16)\n",
            "(496, 7)\n",
            "(124, 7)\n"
          ]
        },
        {
          "output_type": "stream",
          "name": "stderr",
          "text": [
            "/usr/local/lib/python3.10/dist-packages/sklearn/ensemble/_weight_boosting.py:527: FutureWarning: The SAMME.R algorithm (the default) is deprecated and will be removed in 1.6. Use the SAMME algorithm to circumvent this warning.\n",
            "  warnings.warn(\n"
          ]
        },
        {
          "output_type": "stream",
          "name": "stdout",
          "text": [
            "Metrics for Drinking:\n",
            "Accuracy: 0.9919\n",
            "Recall: 0.8000\n",
            "F1 Score: 0.8889\n",
            "Precision: 1.0000\n",
            "\n",
            "Classification Report for Drinking:\n",
            "\n",
            "              precision    recall  f1-score   support\n",
            "\n",
            "           0       0.99      1.00      1.00       119\n",
            "           1       1.00      0.80      0.89         5\n",
            "\n",
            "    accuracy                           0.99       124\n",
            "   macro avg       1.00      0.90      0.94       124\n",
            "weighted avg       0.99      0.99      0.99       124\n",
            "\n"
          ]
        },
        {
          "output_type": "stream",
          "name": "stderr",
          "text": [
            "/usr/local/lib/python3.10/dist-packages/sklearn/ensemble/_weight_boosting.py:527: FutureWarning: The SAMME.R algorithm (the default) is deprecated and will be removed in 1.6. Use the SAMME algorithm to circumvent this warning.\n",
            "  warnings.warn(\n"
          ]
        },
        {
          "output_type": "stream",
          "name": "stdout",
          "text": [
            "Metrics for Bathing:\n",
            "Accuracy: 1.0000\n",
            "Recall: 1.0000\n",
            "F1 Score: 1.0000\n",
            "Precision: 1.0000\n",
            "\n",
            "Classification Report for Bathing:\n",
            "\n",
            "              precision    recall  f1-score   support\n",
            "\n",
            "           0       1.00      1.00      1.00       106\n",
            "           1       1.00      1.00      1.00        18\n",
            "\n",
            "    accuracy                           1.00       124\n",
            "   macro avg       1.00      1.00      1.00       124\n",
            "weighted avg       1.00      1.00      1.00       124\n",
            "\n"
          ]
        },
        {
          "output_type": "stream",
          "name": "stderr",
          "text": [
            "/usr/local/lib/python3.10/dist-packages/sklearn/ensemble/_weight_boosting.py:527: FutureWarning: The SAMME.R algorithm (the default) is deprecated and will be removed in 1.6. Use the SAMME algorithm to circumvent this warning.\n",
            "  warnings.warn(\n"
          ]
        },
        {
          "output_type": "stream",
          "name": "stdout",
          "text": [
            "Metrics for Irrigation:\n",
            "Accuracy: 0.9919\n",
            "Recall: 0.9667\n",
            "F1 Score: 0.9831\n",
            "Precision: 1.0000\n",
            "\n",
            "Classification Report for Irrigation:\n",
            "\n",
            "              precision    recall  f1-score   support\n",
            "\n",
            "           0       0.99      1.00      0.99        94\n",
            "           1       1.00      0.97      0.98        30\n",
            "\n",
            "    accuracy                           0.99       124\n",
            "   macro avg       0.99      0.98      0.99       124\n",
            "weighted avg       0.99      0.99      0.99       124\n",
            "\n"
          ]
        },
        {
          "output_type": "stream",
          "name": "stderr",
          "text": [
            "/usr/local/lib/python3.10/dist-packages/sklearn/ensemble/_weight_boosting.py:527: FutureWarning: The SAMME.R algorithm (the default) is deprecated and will be removed in 1.6. Use the SAMME algorithm to circumvent this warning.\n",
            "  warnings.warn(\n"
          ]
        },
        {
          "output_type": "stream",
          "name": "stdout",
          "text": [
            "Metrics for Shell fishing:\n",
            "Accuracy: 0.9919\n",
            "Recall: 0.9444\n",
            "F1 Score: 0.9714\n",
            "Precision: 1.0000\n",
            "\n",
            "Classification Report for Shell fishing:\n",
            "\n",
            "              precision    recall  f1-score   support\n",
            "\n",
            "           0       0.99      1.00      1.00       106\n",
            "           1       1.00      0.94      0.97        18\n",
            "\n",
            "    accuracy                           0.99       124\n",
            "   macro avg       1.00      0.97      0.98       124\n",
            "weighted avg       0.99      0.99      0.99       124\n",
            "\n"
          ]
        },
        {
          "output_type": "stream",
          "name": "stderr",
          "text": [
            "/usr/local/lib/python3.10/dist-packages/sklearn/ensemble/_weight_boosting.py:527: FutureWarning: The SAMME.R algorithm (the default) is deprecated and will be removed in 1.6. Use the SAMME algorithm to circumvent this warning.\n",
            "  warnings.warn(\n"
          ]
        },
        {
          "output_type": "stream",
          "name": "stdout",
          "text": [
            "Metrics for Water sports:\n",
            "Accuracy: 1.0000\n",
            "Recall: 1.0000\n",
            "F1 Score: 1.0000\n",
            "Precision: 1.0000\n",
            "\n",
            "Classification Report for Water sports:\n",
            "\n",
            "              precision    recall  f1-score   support\n",
            "\n",
            "           0       1.00      1.00      1.00       109\n",
            "           1       1.00      1.00      1.00        15\n",
            "\n",
            "    accuracy                           1.00       124\n",
            "   macro avg       1.00      1.00      1.00       124\n",
            "weighted avg       1.00      1.00      1.00       124\n",
            "\n",
            "Metrics for Harbour:\n",
            "Accuracy: 1.0000\n",
            "Recall: 1.0000\n",
            "F1 Score: 1.0000\n",
            "Precision: 1.0000\n",
            "\n",
            "Classification Report for Harbour:\n",
            "\n",
            "              precision    recall  f1-score   support\n",
            "\n",
            "           0       1.00      1.00      1.00        62\n",
            "           1       1.00      1.00      1.00        62\n",
            "\n",
            "    accuracy                           1.00       124\n",
            "   macro avg       1.00      1.00      1.00       124\n",
            "weighted avg       1.00      1.00      1.00       124\n",
            "\n"
          ]
        },
        {
          "output_type": "stream",
          "name": "stderr",
          "text": [
            "/usr/local/lib/python3.10/dist-packages/sklearn/ensemble/_weight_boosting.py:527: FutureWarning: The SAMME.R algorithm (the default) is deprecated and will be removed in 1.6. Use the SAMME algorithm to circumvent this warning.\n",
            "  warnings.warn(\n",
            "/usr/local/lib/python3.10/dist-packages/sklearn/ensemble/_weight_boosting.py:527: FutureWarning: The SAMME.R algorithm (the default) is deprecated and will be removed in 1.6. Use the SAMME algorithm to circumvent this warning.\n",
            "  warnings.warn(\n"
          ]
        },
        {
          "output_type": "stream",
          "name": "stdout",
          "text": [
            "Metrics for aquatic culture:\n",
            "Accuracy: 1.0000\n",
            "Recall: 1.0000\n",
            "F1 Score: 1.0000\n",
            "Precision: 1.0000\n",
            "\n",
            "Classification Report for aquatic culture:\n",
            "\n",
            "              precision    recall  f1-score   support\n",
            "\n",
            "           0       1.00      1.00      1.00       102\n",
            "           1       1.00      1.00      1.00        22\n",
            "\n",
            "    accuracy                           1.00       124\n",
            "   macro avg       1.00      1.00      1.00       124\n",
            "weighted avg       1.00      1.00      1.00       124\n",
            "\n"
          ]
        },
        {
          "output_type": "display_data",
          "data": {
            "text/plain": [
              "<Figure size 1400x800 with 1 Axes>"
            ],
            "image/png": "[encoded data removed]"
          },
          "metadata": {}
        }
      ],
      "source": [
        "import pandas as pd  #  importing pandas library\n",
        "import numpy as np  # importing numpy library\n",
        "from sklearn.model_selection import train_test_split  # importing train_test_split function\n",
        "from sklearn.preprocessing import LabelEncoder, StandardScaler  # importing LabelEncoder and StandardScaler classes\n",
        "from sklearn.metrics import classification_report, accuracy_score, recall_score, f1_score, precision_score  # importing classification_report, accuracy_score, recall_score, f1_score, precision_score functions\n",
        "from sklearn.ensemble import AdaBoostClassifier  # importing AdaBoostClassifier class\n",
        "import matplotlib.pyplot as plt  # importing pyplot module from matplotlib library\n",
        "\n",
        "# Load the CSV file\n",
        "file_path = '/content/andhra.csv'\n",
        "data = pd.read_csv(file_path, encoding='latin1')\n",
        "\n",
        "# Extracting features from dataset\n",
        "numeric_columns = [\n",
        "    'Temperature\\n?C (Min)', 'Temperature\\n?C (Max)',\n",
        "    'Dissolved Oxygen (mg/L) (Min)', 'Dissolved Oxygen (mg/L) (Max)',\n",
        "    'pH (Min)', 'pH (Max)',\n",
        "    'Conductivity (?mhos/cm) (Min)', 'Conductivity (?mhos/cm) (Max)',\n",
        "    'BOD (mg/L) (Min)', 'BOD (mg/L) (Max)',\n",
        "    'Nitrate N + Nitrite N(mg/L) (Min)', 'Nitrate N + Nitrite N(mg/L) (Max)',\n",
        "    'Fecal Coliform (MPN/100ml) (Min)', 'Fecal Coliform (MPN/100ml) (Max)',\n",
        "    'Total Coliform (MPN/100ml) (Min)', 'Total Coliform (MPN/100ml) (Max)'\n",
        "]\n",
        "# Convert columns to numeric, coercing errors to NaN\n",
        "for col in numeric_columns:\n",
        "    data[col] = pd.to_numeric(data[col], errors='coerce')\n",
        "\n",
        "# Handling missing values by filling them with the mean of each column\n",
        "data[numeric_columns] = data[numeric_columns].fillna(data[numeric_columns].mean())\n",
        "\n",
        "# Define conditions and choices\n",
        "conditions = [\n",
        "    (data['Dissolved Oxygen (mg/L) (Min)'] > 6.5) & (data['pH (Min)'] > 6.5) & (data['pH (Max)'] < 8.5) & (data['Conductivity (?mhos/cm) (Min)'] < 500) & (data['BOD (mg/L) (Max)'] < 3) & (data['Nitrate N + Nitrite N(mg/L) (Max)'] < 4.5),\n",
        "    (data['Dissolved Oxygen (mg/L) (Min)'] > 4) & (data['pH (Min)'] > 6.5) & (data['pH (Max)'] < 8.5) & (data['Conductivity (?mhos/cm) (Max)'] < 1500) & (data['BOD (mg/L) (Max)'] < 3) & (data['Nitrate N + Nitrite N(mg/L) (Max)'] < 10),\n",
        "    (data['Dissolved Oxygen (mg/L) (Min)'] > 5) & (data['pH (Min)'] > 6) & (data['pH (Max)'] < 8.5) & (data['Conductivity (?mhos/cm) (Max)'] < 2000) & (data['BOD (mg/L) (Max)'] < 10) & (data['Nitrate N + Nitrite N(mg/L) (Max)'] < 10),\n",
        "    (data['Dissolved Oxygen (mg/L) (Min)'] > 5) & (data['pH (Min)'] > 6.5) & (data['pH (Max)'] < 8.5) & (data['Conductivity (?mhos/cm) (Max)'] < 1500) & (data['BOD (mg/L) (Max)'] < 5) & (data['Nitrate N + Nitrite N(mg/L) (Max)'] < 5),\n",
        "    (data['Dissolved Oxygen (mg/L) (Min)'] > 5) & (data['pH (Min)'] > 6.5) & (data['pH (Max)'] < 8.5) & (data['Conductivity (?mhos/cm) (Max)'] < 1500) & (data['BOD (mg/L) (Max)'] < 3) & (data['Nitrate N + Nitrite N(mg/L) (Max)'] < 10),\n",
        "    (data['Dissolved Oxygen (mg/L) (Min)'] > 3) & (data['pH (Min)'] > 6.5) & (data['pH (Max)'] < 9.0),\n",
        "    (data['Dissolved Oxygen (mg/L) (Min)'] > 5) & (data['Dissolved Oxygen (mg/L) (Max)'] < 14) & (data['pH (Min)'] > 6.5) & (data['pH (Max)'] < 9.0) & (data['BOD (mg/L) (Max)'] < 3) & (data['Nitrate N + Nitrite N(mg/L) (Max)'] < 10)\n",
        "]\n",
        "# Target variables\n",
        "choices = ['Drinking', 'Bathing', 'Irrigation', 'Shell fishing', 'Water sports', 'Harbour', 'aquatic culture']\n",
        "\n",
        "# Add new columns based on conditions as 0 and 1\n",
        "for condition, choice in zip(conditions, choices):\n",
        "    data[choice] = np.where(condition, 1, 0)\n",
        "\n",
        "# Converting values from string to numeric\n",
        "le_type = LabelEncoder()\n",
        "data['Type Water Body'] = le_type.fit_transform(data['Type Water Body'])\n",
        "le_state = LabelEncoder()\n",
        "data['State Name'] = le_state.fit_transform(data['State Name'])\n",
        "\n",
        "# Features and target variable\n",
        "features = numeric_columns\n",
        "target = choices  # Target is now a list of the new columns\n",
        "\n",
        "X = data[features]\n",
        "y = data[target]\n",
        "\n",
        "# Split the data into training and testing sets\n",
        "X_train, X_test, y_train, y_test = train_test_split(X, y, test_size=0.2, random_state=42)\n",
        "print(X_train.shape)\n",
        "print(X_test.shape)\n",
        "print(y_train.shape)\n",
        "print(y_test.shape)\n",
        "\n",
        "# Standardize the features\n",
        "scaler = StandardScaler()\n",
        "X_train = scaler.fit_transform(X_train)\n",
        "X_test = scaler.transform(X_test)\n",
        "\n",
        "# Creating dictionaries to store scores\n",
        "accuracy_scores = {}\n",
        "recall_scores = {}\n",
        "f1_scores = {}\n",
        "precision_scores = {}\n",
        "\n",
        "# Train AdaBoostClassifier for each target\n",
        "for column in target:\n",
        "    ada = AdaBoostClassifier(random_state=42)\n",
        "    ada.fit(X_train, y_train[column])\n",
        "\n",
        "    y_pred = ada.predict(X_test)\n",
        "\n",
        "    accuracy = accuracy_score(y_test[column], y_pred)\n",
        "    recall = recall_score(y_test[column], y_pred)\n",
        "    f1 = f1_score(y_test[column], y_pred)\n",
        "    precision = precision_score(y_test[column], y_pred)\n",
        "\n",
        "    accuracy_scores[column] = accuracy\n",
        "    recall_scores[column] = recall\n",
        "    f1_scores[column] = f1\n",
        "    precision_scores[column] = precision\n",
        "\n",
        "    print(f\"Metrics for {column}:\")\n",
        "    print(f\"Accuracy: {accuracy:.4f}\")\n",
        "    print(f\"Recall: {recall:.4f}\")\n",
        "    print(f\"F1 Score: {f1:.4f}\")\n",
        "    print(f\"Precision: {precision:.4f}\")\n",
        "    print(f\"\\nClassification Report for {column}:\\n\")\n",
        "    print(classification_report(y_test[column], y_pred))\n",
        "\n",
        "# Plotting the bar graph\n",
        "plt.figure(figsize=(14, 8))\n",
        "plt.barh(list(accuracy_scores.keys()), list(accuracy_scores.values()), color='skyblue', alpha=0.6, label='Accuracy')\n",
        "plt.barh(list(recall_scores.keys()), list(recall_scores.values()), color='orange', alpha=0.6, label='Recall')\n",
        "plt.barh(list(f1_scores.keys()), list(f1_scores.values()), color='green', alpha=0.6, label='F1')\n",
        "plt.legend()\n",
        "plt.xlabel('Scores')\n",
        "plt.title('Classification Metrics by Target')\n",
        "plt.show()"
      ]
    },
    {
      "cell_type": "code",
      "source": [],
      "metadata": {
        "id": "Kb_sSXTFXopW"
      },
      "execution_count": null,
      "outputs": []
    },
    {
      "cell_type": "code",
      "source": [],
      "metadata": {
        "id": "S5uZ8aRHXv7z"
      },
      "execution_count": null,
      "outputs": []
    }
  ]
}